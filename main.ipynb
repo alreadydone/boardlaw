{
 "cells": [
  {
   "cell_type": "code",
   "execution_count": null,
   "metadata": {},
   "outputs": [],
   "source": [
    "from vast import *\n",
    "jittenate(local=True)"
   ]
  },
  {
   "cell_type": "code",
   "execution_count": null,
   "metadata": {},
   "outputs": [],
   "source": [
    "import jittens\n",
    "widths = [1, 8, 64, 512]\n",
    "depths = [1, 8, 64, 512]\n",
    "batches = [1024, 4*1024, 16*1024]\n",
    "lrs = [1e-4, 8e-4, 64e-4, 512e-4]\n",
    "for width in widths:\n",
    "    for depth in depths:\n",
    "        for batch in batches:\n",
    "            for lr in lrs:\n",
    "                jittens.submit(f'python -c \"from experiments.architecture import *; run(\\'fc-opt\\', {width}, {depth}, {batch}, {lr})\" >logs.txt 2>&1', dir='.', resources={'gpu': 1})"
   ]
  },
  {
   "cell_type": "code",
   "execution_count": null,
   "metadata": {},
   "outputs": [],
   "source": [
    "jittens.cancel()"
   ]
  },
  {
   "cell_type": "code",
   "execution_count": null,
   "metadata": {},
   "outputs": [],
   "source": [
    "with plt.style.context('seaborn-poster'):\n",
    "    ax = (df > -1).idxmax().rename(lambda c: int(c[:1])).div(1e9).plot(logy=True, marker='o', linestyle=':')\n",
    "    ax.set_xlabel('board width')\n",
    "    ax.set_ylabel('seconds')\n",
    "    ax.set_title('time taken for AlphaZero to learn perfect play in Hex, by board size')\n",
    "    ax.grid(True)"
   ]
  },
  {
   "cell_type": "code",
   "execution_count": null,
   "metadata": {},
   "outputs": [],
   "source": [
    "(df > -1).idxmax().rename(lambda c: int(c[:1]))"
   ]
  }
 ],
 "metadata": {
  "kernelspec": {
   "display_name": "Python 3",
   "language": "python",
   "name": "python3"
  },
  "language_info": {
   "codemirror_mode": {
    "name": "ipython",
    "version": 3
   },
   "file_extension": ".py",
   "mimetype": "text/x-python",
   "name": "python",
   "nbconvert_exporter": "python",
   "pygments_lexer": "ipython3"
  }
 },
 "nbformat": 4,
 "nbformat_minor": 4
}
