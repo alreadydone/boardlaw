{
 "cells": [
  {
   "cell_type": "code",
   "execution_count": null,
   "metadata": {},
   "outputs": [],
   "source": [
    "from experiments.attn.victory import *"
   ]
  },
  {
   "cell_type": "code",
   "execution_count": null,
   "metadata": {},
   "outputs": [],
   "source": [
    "run_trial(common.ConvContextModel, boardsize=9, n_layers=16, D=64)"
   ]
  },
  {
   "cell_type": "code",
   "execution_count": null,
   "metadata": {},
   "outputs": [],
   "source": [
    "losses.apply(np.log10).tail(10).mean()"
   ]
  },
  {
   "cell_type": "code",
   "execution_count": null,
   "metadata": {},
   "outputs": [],
   "source": [
    "df = load('*angry-alarm*')"
   ]
  },
  {
   "cell_type": "code",
   "execution_count": null,
   "metadata": {},
   "outputs": [],
   "source": [
    "finals = df.tail(10.apply(np.log10).reset_index().rename(columns={999: 'val'})\n",
    "\n",
    "fig, axes = plt.subplots(1, 2)\n",
    "\n",
    "ax = axes[0]\n",
    "finals.groupby(['width', 'boardsize']).val.mean().unstack('width').plot(marker='o', ax=ax)\n",
    "\n",
    "ax = axes[1]\n",
    "finals.groupby(['depth', 'boardsize']).val.mean().unstack('depth').plot(marker='o', ax=ax)\n",
    "\n",
    "for ax in axes:\n",
    "    ax.set_title('\"victory\" toy loss')\n",
    "    ax.grid(True)\n",
    "\n",
    "fig.set_size_inches(15, 6)"
   ]
  },
  {
   "cell_type": "code",
   "execution_count": null,
   "metadata": {},
   "outputs": [],
   "source": [
    "import seaborn as sns\n",
    "sns.heatmap(df.iloc[-1].unstack(0).apply(np.log10), cbar=False)"
   ]
  }
 ],
 "metadata": {
  "kernelspec": {
   "display_name": "Python 3",
   "language": "python",
   "name": "python3"
  },
  "language_info": {
   "codemirror_mode": {
    "name": "ipython",
    "version": 3
   },
   "file_extension": ".py",
   "mimetype": "text/x-python",
   "name": "python",
   "nbconvert_exporter": "python",
   "pygments_lexer": "ipython3"
  }
 },
 "nbformat": 4,
 "nbformat_minor": 4
}
