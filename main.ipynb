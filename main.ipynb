{
 "cells": [
  {
   "cell_type": "code",
   "execution_count": null,
   "metadata": {},
   "outputs": [],
   "source": [
    "from experiments.attn.victory import *"
   ]
  },
  {
   "cell_type": "code",
   "execution_count": null,
   "metadata": {},
   "outputs": [],
   "source": [
    "results = {}\n",
    "for boardsize in (3, 5, 7, 9):\n",
    "    for depth in [1, 2, 4, 8, 16]:\n",
    "        for width in [8, 16, 32, 64, 128]:\n",
    "            print(boardsize, depth, width)\n",
    "            results[boardsize, depth, width] = run_trial(boardsize=boardsize, n_layers=depth, D=width)"
   ]
  },
  {
   "cell_type": "code",
   "execution_count": null,
   "metadata": {},
   "outputs": [],
   "source": [
    "%debug"
   ]
  },
  {
   "cell_type": "code",
   "execution_count": null,
   "metadata": {},
   "outputs": [],
   "source": [
    "outputs = model(b.worlds.obs)"
   ]
  },
  {
   "cell_type": "code",
   "execution_count": null,
   "metadata": {},
   "outputs": [],
   "source": [
    "targets = terminal_actions(b.worlds)\n",
    "outputs = model(b.worlds.obs)\n",
    "\n",
    "infs = torch.full_like(targets, -np.inf)\n",
    "loss = -outputs.reshape(B, -1).where(targets == 1., infs).max(-1).values\n",
    "\n",
    "bad = loss.argsort().cpu().numpy()[::-1]"
   ]
  },
  {
   "cell_type": "code",
   "execution_count": null,
   "metadata": {},
   "outputs": [],
   "source": [
    "plot_soln(bad[-2], b.worlds.obs, targets, outputs, model.attns)"
   ]
  },
  {
   "cell_type": "code",
   "execution_count": null,
   "metadata": {},
   "outputs": [],
   "source": [
    "from rebar.recording import Encoder\n",
    "\n",
    "i = bad[-2]\n",
    "obs = b.worlds.obs[i].detach().cpu().numpy()\n",
    "attn = model.attns[i].detach().cpu().numpy()\n",
    "boardsize = int(attn.shape[1]**.5)\n",
    "attn = attn.transpose(0, 2, 1).reshape(attn.shape[0], attn.shape[2], boardsize, boardsize)\n",
    "\n",
    "rows, cols = attn.shape[:2]\n",
    "\n",
    "\n",
    "with Encoder(fps=1) as enc:\n",
    "    for r in range(rows+3):\n",
    "        r = min(r, rows-1)\n",
    "        fig, axes = plt.subplots(1, 1, squeeze=False)\n",
    "        fig.set_size_inches(5, 5)\n",
    "\n",
    "        colors = color_obs(obs)\n",
    "        colors = np.concatenate([colors, attn[r].max(0)[..., None]], -1)\n",
    "        \n",
    "        plot_board(colors, ax=axes[0, 0], edges=False)\n",
    "        enc(fig)\n",
    "        plt.close(fig)\n",
    "enc.notebook(height=320)"
   ]
  },
  {
   "cell_type": "code",
   "execution_count": null,
   "metadata": {},
   "outputs": [],
   "source": [
    "\n",
    "\n",
    "color_obs(obs)"
   ]
  }
 ],
 "metadata": {
  "kernelspec": {
   "display_name": "Python 3",
   "language": "python",
   "name": "python3"
  },
  "language_info": {
   "codemirror_mode": {
    "name": "ipython",
    "version": 3
   },
   "file_extension": ".py",
   "mimetype": "text/x-python",
   "name": "python",
   "nbconvert_exporter": "python",
   "pygments_lexer": "ipython3"
  }
 },
 "nbformat": 4,
 "nbformat_minor": 4
}
