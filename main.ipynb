{
 "cells": [
  {
   "cell_type": "code",
   "execution_count": null,
   "metadata": {},
   "outputs": [],
   "source": [
    "print('hello')"
   ]
  },
  {
   "cell_type": "code",
   "execution_count": null,
   "metadata": {},
   "outputs": [],
   "source": [
    "from pavlov import *\n",
    "monitor(-1)"
   ]
  },
  {
   "cell_type": "code",
   "execution_count": null,
   "metadata": {},
   "outputs": [],
   "source": [
    "from pavlov import stats\n",
    "stats.plot(['*wry-sights*', '*prize-remedy*', '*hairy-surge*', -1], 'elo-mohex', 'μ', skip=1, fill=True)"
   ]
  },
  {
   "cell_type": "code",
   "execution_count": null,
   "metadata": {},
   "outputs": [],
   "source": [
    "import pandas as pd\n",
    "from pavlov import stats, runs\n",
    "import matplotlib.pyplot as plt\n",
    "\n",
    "# date of the first 9x9 run\n",
    "valid = runs.pandas().query('_created > \"2020-12-23 09:52Z\" & boardsize == 9 & parent == \"\"')\n",
    "\n",
    "results = {}\n",
    "for name in valid.index:\n",
    "    if stats.exists(name, 'elo-mohex'):\n",
    "        s = stats.pandas(name, 'elo-mohex')\n",
    "        if len(s) > 60:\n",
    "            results[name] = s.μ\n",
    "df = pd.concat(results, 1)\n",
    "smoothed = df.rolling(60, 15).mean()\n",
    "\n",
    "with plt.style.context('seaborn-poster'):\n",
    "    ax = smoothed.plot(cmap='viridis', legend=False)\n",
    "    ax.set_facecolor('whitesmoke')\n",
    "    ax.grid(axis='y')\n",
    "    ax.set_ylabel('eElo')\n",
    "    ax.set_title('grad student descent')"
   ]
  },
  {
   "cell_type": "code",
   "execution_count": null,
   "metadata": {},
   "outputs": [],
   "source": [
    "stats.review(-1)"
   ]
  },
  {
   "cell_type": "code",
   "execution_count": null,
   "metadata": {},
   "outputs": [],
   "source": [
    "from pavlov import runs, archive\n",
    "archive.view('*fickle-weeds 7x7-deep-net*', 'boardlaw/main.py')"
   ]
  }
 ],
 "metadata": {
  "kernelspec": {
   "display_name": "Python 3",
   "language": "python",
   "name": "python3"
  },
  "language_info": {
   "codemirror_mode": {
    "name": "ipython",
    "version": 3
   },
   "file_extension": ".py",
   "mimetype": "text/x-python",
   "name": "python",
   "nbconvert_exporter": "python",
   "pygments_lexer": "ipython3"
  }
 },
 "nbformat": 4,
 "nbformat_minor": 4
}
