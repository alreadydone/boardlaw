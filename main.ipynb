{
 "cells": [
  {
   "cell_type": "code",
   "execution_count": null,
   "metadata": {},
   "outputs": [],
   "source": [
    "from boardlaw.grid import *"
   ]
  },
  {
   "cell_type": "code",
   "execution_count": null,
   "metadata": {},
   "outputs": [],
   "source": [
    "for width in [1, 2, 4, 8]:\n",
    "    for depth in [1, 2, 4, 8]:\n",
    "        params = dict(width=width, depth=depth, boardsize=5, timelimit=45*60, desc=\"main/5\")\n",
    "        jittens.jobs.submit(\n",
    "            cmd='python -c \"from boardlaw.main import *; run_jittens()\" >logs.txt 2>&1',\n",
    "            dir='.',\n",
    "            resources={'gpu': 1},\n",
    "            params=params)"
   ]
  },
  {
   "cell_type": "code",
   "execution_count": null,
   "metadata": {},
   "outputs": [],
   "source": [
    "from IPython import display\n",
    "\n",
    "vast.jittenate(local=True)\n",
    "while not jittens.finished():\n",
    "    display.clear_output(wait=True)\n",
    "    jittens.refresh()\n",
    "    time.sleep(1)"
   ]
  },
  {
   "cell_type": "code",
   "execution_count": null,
   "metadata": {},
   "outputs": [],
   "source": [
    "from vast import *\n",
    "offers('gpu_name == \"RTX 2080 Ti\"')"
   ]
  },
  {
   "cell_type": "code",
   "execution_count": null,
   "metadata": {},
   "outputs": [],
   "source": [
    "import jittens\n",
    "jittens.jobs.jobs()"
   ]
  }
 ],
 "metadata": {
  "kernelspec": {
   "display_name": "Python 3",
   "language": "python",
   "name": "python3"
  },
  "language_info": {
   "codemirror_mode": {
    "name": "ipython",
    "version": 3
   },
   "file_extension": ".py",
   "mimetype": "text/x-python",
   "name": "python",
   "nbconvert_exporter": "python",
   "pygments_lexer": "ipython3"
  }
 },
 "nbformat": 4,
 "nbformat_minor": 4
}
