{
 "cells": [
  {
   "cell_type": "code",
   "execution_count": null,
   "metadata": {},
   "outputs": [],
   "source": [
    "from experiments.attn.victory import *"
   ]
  },
  {
   "cell_type": "code",
   "execution_count": null,
   "metadata": {},
   "outputs": [],
   "source": [
    "device = 'cuda'\n",
    "D = 32\n",
    "B = 8*1024\n",
    "T = 5000\n",
    "\n",
    "worlds = Hex.initial(B, boardsize=9)\n",
    "\n",
    "boardsize = worldfunc(1).board.shape[-1]\n",
    "model = common.AttnModel(common.PosActions, boardsize, D).to(device)\n",
    "\n",
    "opt = torch.optim.Adam(model.parameters(), lr=1e-2)\n",
    "\n",
    "with tqdm(total=T) as pbar:\n",
    "    for t, b in zip(range(T), batchgen(worlds, B)):\n",
    "        outputs = model(b.worlds.obs)\n",
    "\n",
    "        loss = F.nll_loss(outputs.reshape(B, -1), b.actions)\n",
    "\n",
    "        opt.zero_grad()\n",
    "        loss.backward()\n",
    "        opt.step()\n",
    "\n",
    "        pbar.update(1)\n",
    "        pbar.set_description(f'{loss:.2f}')\n",
    "\n",
    "        break\n"
   ]
  },
  {
   "cell_type": "code",
   "execution_count": null,
   "metadata": {},
   "outputs": [],
   "source": [
    "from experiments.attn.indicator import *\n",
    "run()"
   ]
  },
  {
   "cell_type": "code",
   "execution_count": null,
   "metadata": {},
   "outputs": [],
   "source": [
    "%debug"
   ]
  },
  {
   "cell_type": "code",
   "execution_count": null,
   "metadata": {},
   "outputs": [],
   "source": [
    "from experiments.attn.common import *"
   ]
  },
  {
   "cell_type": "code",
   "execution_count": null,
   "metadata": {},
   "outputs": [],
   "source": [
    "boardsize = 13\n",
    "xs = np.linspace(0, 1, boardsize)\n",
    "\n",
    "periods = [4/(boardsize-1), 16/(boardsize-1)]\n",
    "\n",
    "vs = np.concatenate([np.stack([np.cos(2*np.pi*xs/p), np.sin(2*np.pi*xs/p)]) for p in periods])\n",
    "\n",
    "import matplotlib.pyplot as plt\n",
    "plt.imshow(vs, cmap='RdBu')"
   ]
  },
  {
   "cell_type": "code",
   "execution_count": null,
   "metadata": {},
   "outputs": [],
   "source": [
    "plt.imshow(vs.T @ vs, cmap='RdBu')"
   ]
  }
 ],
 "metadata": {
  "kernelspec": {
   "display_name": "Python 3",
   "language": "python",
   "name": "python3"
  },
  "language_info": {
   "codemirror_mode": {
    "name": "ipython",
    "version": 3
   },
   "file_extension": ".py",
   "mimetype": "text/x-python",
   "name": "python",
   "nbconvert_exporter": "python",
   "pygments_lexer": "ipython3"
  }
 },
 "nbformat": 4,
 "nbformat_minor": 4
}
