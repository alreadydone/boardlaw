{
 "cells": [
  {
   "cell_type": "code",
   "execution_count": null,
   "metadata": {},
   "outputs": [],
   "source": [
    "from grid.interface import *"
   ]
  },
  {
   "cell_type": "code",
   "execution_count": null,
   "metadata": {},
   "outputs": [],
   "source": [
    "boardsize = 9\n",
    "limits = {3: 10, 5: 30, 7: 90, 9: 360}\n",
    "desc = f'main/{boardsize}'\n",
    "acks = acknowledged(desc)\n",
    "for width in [16, 32, 64, 128, 256, 512, 1024]:\n",
    "    for depth in [1, 2, 4, 8]:\n",
    "        params = dict(width=width, depth=depth, boardsize=boardsize, timelimit=limits[boardsize]*60, desc=desc)\n",
    "        if is_missing(params, acks):\n",
    "            log.info(f'Launching {params}')\n",
    "            jittens.jobs.submit(\n",
    "                cmd='python -c \"from boardlaw.main import *; run_jittens()\" >logs.txt 2>&1',\n",
    "                dir='.',\n",
    "                resources={'gpu': 1},\n",
    "                params=params)\n"
   ]
  },
  {
   "cell_type": "code",
   "execution_count": null,
   "metadata": {},
   "outputs": [],
   "source": [
    "import time\n",
    "from IPython import display\n",
    "\n",
    "vast.jittenate(local=True, ssh_accept=True)\n",
    "last_fetch = 0\n",
    "while not jittens.finished():\n",
    "    try:\n",
    "        display.clear_output(wait=True)\n",
    "        jittens.refresh()\n",
    "        time.sleep(15)\n",
    "\n",
    "        if time.time() > last_fetch + 600:\n",
    "            fetched = fetch()\n",
    "            jittens.manage.cleanup(fetched)\n",
    "            last_fetch = time.time()\n",
    "    except Exception as e:\n",
    "        log.info(f'Failed with error {e}')\n",
    "        raise\n",
    "        time.sleep(60)\n",
    "\n",
    "fetched = fetch()\n",
    "jittens.manage.cleanup(fetched)"
   ]
  },
  {
   "cell_type": "code",
   "execution_count": null,
   "metadata": {},
   "outputs": [],
   "source": [
    "%debug"
   ]
  },
  {
   "cell_type": "code",
   "execution_count": null,
   "metadata": {},
   "outputs": [],
   "source": [
    "runs.pandas().loc[lambda df: df._env.fillna(0).apply(lambda e: '900' in (e or {}).get('JITTENS_PARAMS', ''))]"
   ]
  },
  {
   "cell_type": "code",
   "execution_count": null,
   "metadata": {},
   "outputs": [],
   "source": [
    "for n, m in jittens.machines.machines().items():\n",
    "    if n != 'local':\n",
    "        try:\n",
    "            m.run('pkill -f \"python\"')\n",
    "        except Exception as e:\n",
    "            print(n, e)"
   ]
  },
  {
   "cell_type": "code",
   "execution_count": null,
   "metadata": {},
   "outputs": [],
   "source": [
    "vast.ssh_command('high-sea')"
   ]
  },
  {
   "cell_type": "code",
   "execution_count": null,
   "metadata": {},
   "outputs": [],
   "source": [
    "ls \"output/pavlov/2021-02-08 13-47-49 united-click/\""
   ]
  },
  {
   "cell_type": "code",
   "execution_count": null,
   "metadata": {},
   "outputs": [],
   "source": [
    "vast.offers('cuda_max_good >= 11.1 & gpu_name == \"RTX 2080 Ti\"')"
   ]
  }
 ],
 "metadata": {
  "kernelspec": {
   "display_name": "Python 3",
   "language": "python",
   "name": "python3"
  }
 },
 "nbformat": 4,
 "nbformat_minor": 4
}
