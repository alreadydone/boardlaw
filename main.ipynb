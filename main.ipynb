{
 "cells": [
  {
   "cell_type": "code",
   "execution_count": null,
   "metadata": {},
   "outputs": [],
   "source": [
    "from grid.interface import *"
   ]
  },
  {
   "cell_type": "code",
   "execution_count": null,
   "metadata": {},
   "outputs": [],
   "source": [
    "boardsize = 9\n",
    "limits = {3: 8, 5: 15, 7: 45, 9: 90}\n",
    "desc = f'main/{boardsize}'\n",
    "acks = acknowledged(desc)\n",
    "for width in [64, 128, 256, 512, 1024]:\n",
    "    for depth in [1, 2, 4, 8, 16, 32]:\n",
    "        params = dict(width=width, depth=depth, boardsize=boardsize, timelimit=limits[boardsize]*60, desc=desc)\n",
    "        if is_missing(params, acks):\n",
    "            log.info(f'Launching {params}')\n",
    "            jittens.jobs.submit(\n",
    "                cmd='python -c \"from boardlaw.main import *; run_jittens()\" >logs.txt 2>&1',\n",
    "                dir='.',\n",
    "                resources={'gpu': 1},\n",
    "                params=params)\n"
   ]
  },
  {
   "cell_type": "code",
   "execution_count": null,
   "metadata": {},
   "outputs": [],
   "source": [
    "import time\n",
    "from IPython import display\n",
    "\n",
    "vast.jittenate(local=True, ssh_accept=True)\n",
    "last_fetch = 0\n",
    "while not jittens.finished():\n",
    "    try:\n",
    "        display.clear_output(wait=True)\n",
    "        jittens.refresh()\n",
    "        time.sleep(15)\n",
    "\n",
    "        if time.time() > last_fetch + 600:\n",
    "            fetched = fetch()\n",
    "            jittens.manage.cleanup(fetched)\n",
    "            last_fetch = time.time()\n",
    "    except Exception as e:\n",
    "        log.info(f'Failed with error {e}')\n",
    "        time.sleep(60)\n",
    "\n",
    "fetched = fetch()\n",
    "jittens.manage.cleanup(fetched)"
   ]
  }
 ],
 "metadata": {
  "kernelspec": {
   "display_name": "Python 3",
   "language": "python",
   "name": "python3"
  }
 },
 "nbformat": 4,
 "nbformat_minor": 4
}
