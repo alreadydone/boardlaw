{
 "cells": [
  {
   "cell_type": "code",
   "execution_count": null,
   "metadata": {},
   "outputs": [],
   "source": [
    "%env CUDA_LAUNCH_BLOCKING=1"
   ]
  },
  {
   "cell_type": "code",
   "execution_count": null,
   "metadata": {},
   "outputs": [],
   "source": [
    "from boardlaw.main import *\n",
    "\n",
    "buffer_length = 16 \n",
    "batch_size = 64*1024\n",
    "n_envs = 8*1024\n",
    "buffer_inc = batch_size//n_envs\n",
    "\n",
    "worlds = worldfunc(n_envs)\n",
    "agent = agentfunc()\n",
    "opt = torch.optim.Adam(agent.evaluator.parameters(), lr=1e-2, amsgrad=True)\n",
    "\n",
    "sched = torch.optim.lr_scheduler.LambdaLR(opt, lambda e: min(e/1000, 1))\n",
    "\n",
    "run = runs.new_run('pavlov-test')"
   ]
  },
  {
   "cell_type": "code",
   "execution_count": null,
   "metadata": {},
   "outputs": [],
   "source": [
    "buffer = []\n",
    "idxs = cycle(learning.batch_indices(buffer_length, n_envs, batch_size, worlds.device))\n"
   ]
  },
  {
   "cell_type": "code",
   "execution_count": null,
   "metadata": {},
   "outputs": [],
   "source": [
    "while len(buffer) < buffer_length:\n",
    "    decisions = agent(worlds, value=True)\n",
    "    new_worlds, transition = worlds.step(decisions.actions)\n",
    "    buffer.append(arrdict.arrdict(\n",
    "        worlds=worlds,\n",
    "        decisions=decisions,\n",
    "        transitions=transition).detach())\n",
    "    worlds = new_worlds\n",
    "    log.info('actor stepped')"
   ]
  },
  {
   "cell_type": "code",
   "execution_count": null,
   "metadata": {},
   "outputs": [],
   "source": [
    "with logs.to_run(run), stats.to_run(run):\n",
    "    chunk = arrdict.stack(buffer)\n",
    "    chunk_stats(chunk, buffer_inc)"
   ]
  },
  {
   "cell_type": "code",
   "execution_count": null,
   "metadata": {},
   "outputs": [],
   "source": [
    "stats.review(rule='1s')"
   ]
  }
 ],
 "metadata": {
  "kernelspec": {
   "display_name": "Python 3",
   "language": "python",
   "name": "python3"
  },
  "language_info": {
   "codemirror_mode": {
    "name": "ipython",
    "version": 3
   },
   "file_extension": ".py",
   "mimetype": "text/x-python",
   "name": "python",
   "nbconvert_exporter": "python",
   "pygments_lexer": "ipython3"
  }
 },
 "nbformat": 4,
 "nbformat_minor": 4
}
