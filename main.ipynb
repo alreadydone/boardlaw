{
 "cells": [
  {
   "cell_type": "code",
   "execution_count": null,
   "metadata": {},
   "outputs": [],
   "source": [
    "from pavlov import *\n",
    "monitor(-1)"
   ]
  },
  {
   "cell_type": "code",
   "execution_count": null,
   "metadata": {},
   "outputs": [],
   "source": [
    "from pavlov import stats\n",
    "ax = stats.plot(['*perky-boxes*', '*forked-shots', '*better-slopes', -1], 'elo-mohex', 'μ', skip=3, fill=True, head=720)\n",
    "ax.set_ylim(None, 0)"
   ]
  },
  {
   "cell_type": "code",
   "execution_count": null,
   "metadata": {},
   "outputs": [],
   "source": [
    "from boardlaw.analysis import *\n",
    "smoothed = grad_student_descent()"
   ]
  },
  {
   "cell_type": "code",
   "execution_count": null,
   "metadata": {},
   "outputs": [],
   "source": [
    "boardsize = 9\n",
    "with plt.style.context('seaborn-poster'):\n",
    "    colors = ['C7']*(smoothed.shape[1]-1) + ['C1']\n",
    "    ax = smoothed.plot(color=colors, legend=False, linewidth=1.5)\n",
    "    ax.set_facecolor('whitesmoke')\n",
    "    ax.grid(axis='y')\n",
    "    ax.set_ylim(None, 0)\n",
    "    ax.set_ylabel('eElo')\n",
    "    ax.set_title(f'grad student ascent, {boardsize}x{boardsize}')\n",
    "    "
   ]
  },
  {
   "cell_type": "code",
   "execution_count": null,
   "metadata": {},
   "outputs": [],
   "source": [
    "stats.review()"
   ]
  }
 ],
 "metadata": {
  "kernelspec": {
   "display_name": "Python 3",
   "language": "python",
   "name": "python3"
  },
  "language_info": {
   "codemirror_mode": {
    "name": "ipython",
    "version": 3
   },
   "file_extension": ".py",
   "mimetype": "text/x-python",
   "name": "python",
   "nbconvert_exporter": "python",
   "pygments_lexer": "ipython3"
  }
 },
 "nbformat": 4,
 "nbformat_minor": 4
}
