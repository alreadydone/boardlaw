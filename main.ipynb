{
 "cells": [
  {
   "cell_type": "code",
   "execution_count": null,
   "metadata": {},
   "outputs": [],
   "source": [
    "from boardlaw.main.direct import *\n",
    "run()"
   ]
  },
  {
   "cell_type": "code",
   "execution_count": null,
   "metadata": {},
   "outputs": [],
   "source": [
    "buffer_length = 16 \n",
    "batch_size = 64*1024\n",
    "n_envs = 8*1024\n",
    "buffer_inc = batch_size//n_envs\n",
    "\n",
    "worlds = worldfunc(n_envs)\n",
    "agent = agentfunc()\n",
    "opt = torch.optim.Adam(agent.evaluator.parameters(), lr=4e-3, amsgrad=True)\n",
    "\n",
    "sched = torch.optim.lr_scheduler.LambdaLR(opt, lambda e: min(e/100, 1))"
   ]
  },
  {
   "cell_type": "code",
   "execution_count": null,
   "metadata": {},
   "outputs": [],
   "source": [
    "sched.step()\n",
    "sched.get_lr()"
   ]
  },
  {
   "cell_type": "code",
   "execution_count": null,
   "metadata": {},
   "outputs": [],
   "source": [
    "sched.get_lr??"
   ]
  }
 ],
 "metadata": {
  "kernelspec": {
   "display_name": "Python 3",
   "language": "python",
   "name": "python3"
  }
 },
 "nbformat": 4,
 "nbformat_minor": 4
}
