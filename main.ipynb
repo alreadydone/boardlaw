{
 "cells": [
  {
   "cell_type": "code",
   "execution_count": null,
   "metadata": {},
   "outputs": [],
   "source": [
    "from pavlov import *\n",
    "monitor(-1)"
   ]
  },
  {
   "cell_type": "code",
   "execution_count": null,
   "metadata": {},
   "outputs": [],
   "source": [
    "from pavlov import stats\n",
    "stats.plot(['*perky-boxes 9x9-deep-net*', '*crazy-blast*', '*nifty-mules*'], 'elo-mohex', 'μ', skip=3, fill=True, head=900)"
   ]
  },
  {
   "cell_type": "code",
   "execution_count": null,
   "metadata": {},
   "outputs": [],
   "source": [
    "import pandas as pd\n",
    "from pavlov import stats, runs\n",
    "import matplotlib.pyplot as plt\n",
    "\n",
    "# date of the first 9x9 run\n",
    "valid = runs.pandas().query('_created > \"2020-12-23 09:52Z\" & boardsize == 9 & parent == \"\"')\n",
    "\n",
    "results = {}\n",
    "for name in valid.index:\n",
    "    if stats.exists(name, 'elo-mohex'):\n",
    "        s = stats.pandas(name, 'elo-mohex')\n",
    "        if len(s) > 60:\n",
    "            results[name] = s.μ\n",
    "raw = pd.concat(results, 1)\n",
    "smoothed = raw.rolling(60, 5).mean()\n"
   ]
  },
  {
   "cell_type": "code",
   "execution_count": null,
   "metadata": {},
   "outputs": [],
   "source": [
    "\n",
    "df = smoothed.loc[:, smoothed.max(0) > -2.5].head(600)\n",
    "with plt.style.context('seaborn-poster'):\n",
    "    ax = df.plot(cmap='viridis', legend=True)\n",
    "    ax.set_facecolor('whitesmoke')\n",
    "    ax.grid(axis='y')\n",
    "    ax.set_ylabel('eElo')\n",
    "    ax.set_title('grad student descent')"
   ]
  },
  {
   "cell_type": "code",
   "execution_count": null,
   "metadata": {},
   "outputs": [],
   "source": [
    "smoothed.max()"
   ]
  },
  {
   "cell_type": "code",
   "execution_count": null,
   "metadata": {},
   "outputs": [],
   "source": [
    "files.remove(-1, 'archive.tar.gz')"
   ]
  },
  {
   "cell_type": "code",
   "execution_count": null,
   "metadata": {},
   "outputs": [],
   "source": []
  }
 ],
 "metadata": {
  "kernelspec": {
   "display_name": "Python 3",
   "language": "python",
   "name": "python3"
  }
 },
 "nbformat": 4,
 "nbformat_minor": 4
}
