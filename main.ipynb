{
 "cells": [
  {
   "cell_type": "code",
   "execution_count": null,
   "metadata": {},
   "outputs": [],
   "source": [
    "from experiments.attn.victory import *"
   ]
  },
  {
   "cell_type": "code",
   "execution_count": null,
   "metadata": {},
   "outputs": [],
   "source": [
    "device = 'cuda'\n",
    "D = 64\n",
    "B = 8*1024\n",
    "T = 500\n",
    "\n",
    "worlds = Hex.initial(B, boardsize=7)\n",
    "\n",
    "boardsize = worlds.boardsize\n",
    "model = common.AttnModel(common.PosActions, boardsize, D).to(device)\n",
    "\n",
    "opt = torch.optim.Adam(model.parameters(), lr=1e-2)\n",
    "\n",
    "with tqdm(total=T) as pbar:\n",
    "    for t, b in zip(range(T), batchgen(worlds, B)):\n",
    "        targets = terminal_actions(b.worlds)\n",
    "        outputs = model(b.worlds.obs)\n",
    "\n",
    "        infs = torch.full_like(targets, -np.inf)\n",
    "        loss = -outputs.reshape(B, -1).where(targets == 1., infs).max(-1).values.mean()\n",
    "\n",
    "        opt.zero_grad()\n",
    "        loss.backward()\n",
    "        opt.step()\n",
    "\n",
    "        pbar.update(1)\n",
    "        pbar.set_description(f'{loss:.2f}')\n",
    "\n"
   ]
  },
  {
   "cell_type": "code",
   "execution_count": null,
   "metadata": {},
   "outputs": [],
   "source": [
    "targets = terminal_actions(b.worlds)\n",
    "outputs = model(b.worlds.obs)\n",
    "\n",
    "infs = torch.full_like(targets, -np.inf)\n",
    "loss = -outputs.reshape(B, -1).where(targets == 1., infs).max(-1).values\n",
    "\n",
    "bad = loss.argsort().cpu().numpy()[::-1]"
   ]
  },
  {
   "cell_type": "code",
   "execution_count": null,
   "metadata": {},
   "outputs": [],
   "source": [
    "plot(bad[10], b.worlds.obs, targets, outputs, model.attns)"
   ]
  },
  {
   "cell_type": "code",
   "execution_count": null,
   "metadata": {},
   "outputs": [],
   "source": [
    "from rebar.recording import Encoder\n",
    "\n",
    "i = 11\n",
    "obs = b.worlds.obs[i].detach().cpu().numpy()\n",
    "attn = model.attns[i].detach().cpu().numpy()\n",
    "boardsize = int(attn.shape[1]**.5)\n",
    "attn = attn.transpose(0, 2, 1).reshape(attn.shape[0], attn.shape[2], boardsize, boardsize)\n",
    "\n",
    "rows, cols = attn.shape[:2]\n",
    "\n",
    "\n",
    "with Encoder(fps=1) as enc:\n",
    "    for r in range(rows+3):\n",
    "        r = min(r, rows-1)\n",
    "        fig, axes = plt.subplots(1, cols+1, squeeze=False)\n",
    "        fig.set_size_inches(8*(cols+1), 8)\n",
    "\n",
    "        plot_board(color_obs(obs), ax=axes[0, 0])\n",
    "        for c in range(cols):\n",
    "            colors = plt.cm.viridis(attn[r, c])\n",
    "            plot_board(colors, ax=axes[0, c+1])\n",
    "        enc(fig)\n",
    "        plt.close(fig)\n",
    "enc.notebook()"
   ]
  }
 ],
 "metadata": {
  "kernelspec": {
   "display_name": "Python 3",
   "language": "python",
   "name": "python3"
  }
 },
 "nbformat": 4,
 "nbformat_minor": 4
}
