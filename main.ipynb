{
 "cells": [
  {
   "cell_type": "code",
   "execution_count": null,
   "metadata": {},
   "outputs": [],
   "source": [
    "from experiments.attn.victory import *"
   ]
  },
  {
   "cell_type": "code",
   "execution_count": null,
   "metadata": {},
   "outputs": [],
   "source": [
    "results = {}\n",
    "for boardsize in (3, 5, 7, 9):\n",
    "    for depth in [1, 2, 4, 8, 16]:\n",
    "        for width in [8, 16, 32, 64, 128]:\n",
    "            print(boardsize, depth, width)\n",
    "            results[boardsize, depth, width] = run_trial(boardsize=boardsize, n_layers=depth, D=width)"
   ]
  },
  {
   "cell_type": "code",
   "execution_count": null,
   "metadata": {},
   "outputs": [],
   "source": [
    "from pathlib import Path\n",
    "import pickle\n",
    "Path('output/experiments-victory.pkl').write_bytes(pickle.dumps(results))"
   ]
  },
  {
   "cell_type": "code",
   "execution_count": null,
   "metadata": {},
   "outputs": [],
   "source": [
    "pickle.loads(Path('output/experiments-victory.pkl').read_bytes())"
   ]
  },
  {
   "cell_type": "code",
   "execution_count": null,
   "metadata": {},
   "outputs": [],
   "source": [
    "from pavlov import stats, runs, storage\n",
    "Model = common.FCModel\n",
    "run = runs.new_run('experiments-victory', model=Model.__name__)"
   ]
  },
  {
   "cell_type": "code",
   "execution_count": null,
   "metadata": {},
   "outputs": [],
   "source": [
    "for boardsize in (3, 5, 7, 9):\n",
    "    for depth in [1, 2, 4, 8, 16]:\n",
    "        for width in [8, 16, 32, 64, 128]:\n",
    "            storage.snapshot(run, {'losses': results[boardsize, depth, width].to_dict()}, boardsize=boardsize, depth=depth, width=width)"
   ]
  },
  {
   "cell_type": "code",
   "execution_count": null,
   "metadata": {},
   "outputs": [],
   "source": [
    "from pavlov import stats, runs, storage, files"
   ]
  },
  {
   "cell_type": "code",
   "execution_count": null,
   "metadata": {},
   "outputs": [],
   "source": [
    "snapshots = pd.DataFrame.from_dict(storage.snapshots(run), orient='index')\n",
    "df = {}\n",
    "for i, row in snapshots.iterrows():\n",
    "    df[row.boardsize, row.depth, row.width] = storage.load_snapshot(run, i)['losses']\n",
    "df = pd"
   ]
  },
  {
   "cell_type": "code",
   "execution_count": null,
   "metadata": {},
   "outputs": [],
   "source": [
    "df.index.name = 'step'\n",
    "df.columns.names = ('boardsize', 'depth', 'width')"
   ]
  },
  {
   "cell_type": "code",
   "execution_count": null,
   "metadata": {},
   "outputs": [],
   "source": [
    "finals = df.iloc[-1].unstack(-1).T"
   ]
  },
  {
   "cell_type": "code",
   "execution_count": null,
   "metadata": {},
   "outputs": [],
   "source": [
    "import seaborn as sns\n",
    "sns.heatmap(finals.applymap(np.log10), square=True)"
   ]
  },
  {
   "cell_type": "code",
   "execution_count": null,
   "metadata": {},
   "outputs": [],
   "source": [
    "finals = df.iloc[-1].apply(np.log10).reset_index().rename(columns={999: 'val'})"
   ]
  },
  {
   "cell_type": "code",
   "execution_count": null,
   "metadata": {},
   "outputs": [],
   "source": [
    "from statsmodels.formula import api as smf \n",
    "m = smf.ols('val ~ boardsize + depth + width + 1', finals).fit()"
   ]
  },
  {
   "cell_type": "code",
   "execution_count": null,
   "metadata": {},
   "outputs": [],
   "source": [
    "r = m.resid.copy()\n",
    "r.index = df.iloc[-1].index "
   ]
  },
  {
   "cell_type": "code",
   "execution_count": null,
   "metadata": {},
   "outputs": [],
   "source": [
    "vlim = r.abs().max()\n",
    "sns.heatmap(r.unstack(2).T, cbar=False, square=True, cmap='RdBu', vmin=-vlim, vmax=+vlim)"
   ]
  },
  {
   "cell_type": "code",
   "execution_count": null,
   "metadata": {},
   "outputs": [],
   "source": [
    "m.summary()"
   ]
  },
  {
   "cell_type": "code",
   "execution_count": null,
   "metadata": {},
   "outputs": [],
   "source": []
  }
 ],
 "metadata": {
  "kernelspec": {
   "display_name": "Python 3",
   "language": "python",
   "name": "python3"
  }
 },
 "nbformat": 4,
 "nbformat_minor": 4
}
