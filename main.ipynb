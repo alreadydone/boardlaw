{
 "cells": [
  {
   "cell_type": "code",
   "execution_count": null,
   "metadata": {},
   "outputs": [],
   "source": [
    "from vast import *\n",
    "launch('cuda_max_good >= 11.1 & gpu_name == \"RTX 2080 Ti\" & num_gpus == 4')\n",
    "wait()\n",
    "jittenate(local=True)"
   ]
  },
  {
   "cell_type": "code",
   "execution_count": null,
   "metadata": {},
   "outputs": [],
   "source": [
    "from experiments.architecture import *"
   ]
  },
  {
   "cell_type": "code",
   "execution_count": null,
   "metadata": {},
   "outputs": [],
   "source": [
    "raw = load_opt_results('fc-opt')"
   ]
  },
  {
   "cell_type": "code",
   "execution_count": null,
   "metadata": {},
   "outputs": [],
   "source": [
    "aug = (raw\n",
    "        .xs('train', 1, 4)\n",
    "        .ewm(span=100).mean().min()\n",
    "        .groupby(['n', 'l']).min()\n",
    "        .reset_index())\n",
    "aug.columns = ['width', 'depth', 'rv']\n",
    "\n",
    "aug = (aug\n",
    "        .assign(params=lambda df: (df.width**2 + df.width)*df.depth)\n",
    "        .assign(memory=lambda df: df.width*df.depth)\n",
    "        .assign(flops=lambda df: (df.width**3 + df.width)*df.depth))\n",
    "\n",
    "with plt.style.context('seaborn-poster'):\n",
    "    mpl.rcParams['legend.title_fontsize'] = 'xx-large'\n",
    "    fig, axes = plt.subplots(2, 2, sharey=True)\n",
    "    plot_envelope(aug, 'depth', axes[0, 0])\n",
    "    plot_envelope(aug, 'params', axes[0, 1])\n",
    "    plot_envelope(aug, 'flops', axes[1, 1])\n",
    "    plot_envelope(aug, 'memory', axes[1, 0])\n",
    "    axes[0, 1].set_ylabel('')\n",
    "    axes[1, 1].set_ylabel('')\n",
    "    fig.set_size_inches(16, 16)\n",
    "    fig.suptitle('performance envelopes for predicting outcome of 11x11 Hex games with fully-connected networks\\n(depth doubles line-to-line, width doubles node-to-node)')\n",
    "\n"
   ]
  },
  {
   "cell_type": "code",
   "execution_count": null,
   "metadata": {},
   "outputs": [],
   "source": [
    "plot_envelope(aug, 'memory')"
   ]
  }
 ],
 "metadata": {
  "kernelspec": {
   "display_name": "Python 3",
   "language": "python",
   "name": "python3"
  }
 },
 "nbformat": 4,
 "nbformat_minor": 4
}
