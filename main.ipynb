{
 "cells": [
  {
   "cell_type": "code",
   "execution_count": null,
   "metadata": {},
   "outputs": [],
   "source": [
    "from experiments.attn.victory import *"
   ]
  },
  {
   "cell_type": "code",
   "execution_count": null,
   "metadata": {},
   "outputs": [],
   "source": [
    "losses, rate = run_trial(common.ConvContextModel, boardsize=9, n_layers=4, D=32)"
   ]
  },
  {
   "cell_type": "code",
   "execution_count": null,
   "metadata": {},
   "outputs": [],
   "source": [
    "losses.tai"
   ]
  },
  {
   "cell_type": "code",
   "execution_count": null,
   "metadata": {},
   "outputs": [],
   "source": [
    "s = \"\"\"995    0.019779\n",
    "996    0.017397\n",
    "997    0.012021\n",
    "998    0.022778\n",
    "999    0.005439\"\"\"\n",
    "pd.Series(dict([l.split() for l in s.splitlines()])).pipe(pd.to_numeric).apply(np.log10).mean()"
   ]
  },
  {
   "cell_type": "code",
   "execution_count": null,
   "metadata": {},
   "outputs": [],
   "source": [
    "losses.apply(np.log10).tail(10).mean()"
   ]
  },
  {
   "cell_type": "code",
   "execution_count": null,
   "metadata": {},
   "outputs": [],
   "source": [
    "losses.apply(np.log10).tail(10).mean()"
   ]
  },
  {
   "cell_type": "code",
   "execution_count": null,
   "metadata": {},
   "outputs": [],
   "source": [
    "losses, info = load('*angry-alarm*')"
   ]
  },
  {
   "cell_type": "code",
   "execution_count": null,
   "metadata": {},
   "outputs": [],
   "source": [
    "finals = losses.tail(10).apply(np.log10).mean().reset_index().rename(columns={0: 'val'})\n",
    "\n",
    "fig, axes = plt.subplots(1, 2)\n",
    "\n",
    "ax = axes[0]\n",
    "finals.groupby(['width', 'boardsize']).val.mean().unstack('width').plot(marker='o', ax=ax)\n",
    "\n",
    "ax = axes[1]\n",
    "finals.groupby(['depth', 'boardsize']).val.mean().unstack('depth').plot(marker='o', ax=ax)\n",
    "\n",
    "for ax in axes:\n",
    "    ax.set_title('\"victory\" toy loss')\n",
    "    ax.grid(True)\n",
    "\n",
    "fig.set_size_inches(15, 6)"
   ]
  },
  {
   "cell_type": "code",
   "execution_count": null,
   "metadata": {},
   "outputs": [],
   "source": [
    "y = finals.query('boardsize == 9').pivot('depth', 'width', 'val')\n",
    "x = info.T.reset_index().query('boardsize == 9').pivot('depth', 'width', 'macs')"
   ]
  },
  {
   "cell_type": "code",
   "execution_count": null,
   "metadata": {},
   "outputs": [],
   "source": [
    "info[9]"
   ]
  },
  {
   "cell_type": "code",
   "execution_count": null,
   "metadata": {},
   "outputs": [],
   "source": [
    "model = common.ConvModel\n",
    "\n",
    "run = '*angry-alarm*'\n",
    "i = runs.info(run)\n",
    "assert model.__name__ == i['model']\n",
    "\n",
    "for n, f in i['_files'].items():\n",
    "    boardsize = f['boardsize']\n",
    "    depth = f['depth']\n",
    "    width = f['width']\n",
    "    m = model(common.PosActions, boardsize, width, depth).cuda()\n",
    "    macs, params = get_model_complexity_info(m, (boardsize, boardsize, 2), as_strings=False, print_per_layer_stat=False)\n",
    "    print(boardsize, width, depth, macs)\n",
    "    \n",
    "    with runs.update(run) as ri:\n",
    "        ri['_files'][n]['n_macs'] = macs\n",
    "        ri['_files'][n]['n_params'] = params"
   ]
  },
  {
   "cell_type": "code",
   "execution_count": null,
   "metadata": {},
   "outputs": [],
   "source": [
    "64*64*81"
   ]
  }
 ],
 "metadata": {
  "kernelspec": {
   "display_name": "Python 3",
   "language": "python",
   "name": "python3"
  },
  "language_info": {
   "codemirror_mode": {
    "name": "ipython",
    "version": 3
   },
   "file_extension": ".py",
   "mimetype": "text/x-python",
   "name": "python",
   "nbconvert_exporter": "python",
   "pygments_lexer": "ipython3"
  }
 },
 "nbformat": 4,
 "nbformat_minor": 4
}
