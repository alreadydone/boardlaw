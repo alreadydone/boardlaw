{
 "cells": [
  {
   "cell_type": "code",
   "execution_count": null,
   "metadata": {},
   "outputs": [],
   "source": [
    "from vast import *\n",
    "launch('cuda_max_good >= 11.1 & gpu_name == \"RTX 2080 Ti\" & num_gpus == 4')\n",
    "wait()\n",
    "jittenate(local=True)"
   ]
  },
  {
   "cell_type": "code",
   "execution_count": null,
   "metadata": {},
   "outputs": [],
   "source": [
    "import jittens\n",
    "from experiments.architecture import load_opt_results\n",
    "\n",
    "df = load_opt_results('fc-opt').xs('train', 1, 4).ewm(span=100).mean().min().rename('rv').reset_index()\n",
    "check = df.set_index(['n', 'l', 'b', 'lr']).rv.notnull()\n",
    "depths = [1, 2, 4, 8, 16, 32, 64, 128, 256, 512]\n",
    "widths = [1, 2, 4, 8, 16, 32, 64, 128, 256, 512]\n",
    "batches = [1024, 4*1024, 16*1024]\n",
    "lrs = [1e-4, 8e-4, 64e-4, 512e-4]\n",
    "for n in widths:\n",
    "    for l in depths:\n",
    "        for b in batches:\n",
    "            for r in lrs:\n",
    "                if (n, l, b, r) not in check.index:\n",
    "                    jittens.submit(f'python -c \"from experiments.architecture import *; run(\\'fc-opt\\', {n}, {l}, {b}, {r})\" >logs.txt 2>&1', dir='.', resources={'gpu': 1})"
   ]
  },
  {
   "cell_type": "code",
   "execution_count": null,
   "metadata": {},
   "outputs": [],
   "source": [
    "import time\n",
    "import jittens\n",
    "while not jittens.finished():\n",
    "    jittens.manage()\n",
    "    time.sleep(1)"
   ]
  },
  {
   "cell_type": "code",
   "execution_count": null,
   "metadata": {},
   "outputs": [],
   "source": [
    "jittens.cancel()\n",
    "jittens.cleanup()"
   ]
  }
 ],
 "metadata": {
  "kernelspec": {
   "display_name": "Python 3",
   "language": "python",
   "name": "python3"
  }
 },
 "nbformat": 4,
 "nbformat_minor": 4
}
