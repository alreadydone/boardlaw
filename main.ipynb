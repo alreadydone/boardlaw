{
 "cells": [
  {
   "cell_type": "code",
   "execution_count": null,
   "metadata": {},
   "outputs": [],
   "source": [
    "from boardlaw.grid import *"
   ]
  },
  {
   "cell_type": "code",
   "execution_count": null,
   "metadata": {},
   "outputs": [],
   "source": [
    "boardsize = 3\n",
    "limits = {3: 15, 5: 45, 7: 120}\n",
    "desc = f'main/{boardsize}'\n",
    "acks = acknowledged(desc)\n",
    "for width in [1, 2, 4, 8]:\n",
    "    for depth in [1, 2, 4, 8, 16, 32, 64]:\n",
    "        params = dict(width=width, depth=depth, boardsize=boardsize, timelimit=limits[boardsize]*60, desc=desc)\n",
    "        if is_missing(params, acks):\n",
    "            log.info(f'Launching {params}')\n",
    "            jittens.jobs.submit(\n",
    "                cmd='python -c \"from boardlaw.main import *; run_jittens()\" >logs.txt 2>&1',\n",
    "                dir='.',\n",
    "                resources={'gpu': 1},\n",
    "                params=params)\n"
   ]
  },
  {
   "cell_type": "code",
   "execution_count": null,
   "metadata": {},
   "outputs": [],
   "source": [
    "import time\n",
    "from IPython import display\n",
    "\n",
    "vast.jittenate(local=True, ssh_accept=True)\n",
    "last_fetch = 0\n",
    "while not jittens.finished():\n",
    "    display.clear_output(wait=True)\n",
    "    jittens.refresh()\n",
    "    time.sleep(15)\n",
    "    \n",
    "    if time.time() > last_fetch + 600:\n",
    "        fetched = fetch()\n",
    "        jittens.manage.cleanup(fetched)\n",
    "        last_fetch = time.time()"
   ]
  },
  {
   "cell_type": "code",
   "execution_count": null,
   "metadata": {},
   "outputs": [],
   "source": [
    "for n, j in jittens.jobs.jobs().items():\n",
    "    if j.params['boardsize'] == 3:\n",
    "        jittens.jobs.delete(n)"
   ]
  },
  {
   "cell_type": "code",
   "execution_count": null,
   "metadata": {},
   "outputs": [],
   "source": [
    "[j.params for j in jittens.jobs.jobs('fresh').values()]"
   ]
  }
 ],
 "metadata": {
  "kernelspec": {
   "display_name": "Python 3",
   "language": "python",
   "name": "python3"
  },
  "language_info": {
   "codemirror_mode": {
    "name": "ipython",
    "version": 3
   },
   "file_extension": ".py",
   "mimetype": "text/x-python",
   "name": "python",
   "nbconvert_exporter": "python",
   "pygments_lexer": "ipython3"
  }
 },
 "nbformat": 4,
 "nbformat_minor": 4
}
