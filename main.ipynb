{
 "cells": [
  {
   "cell_type": "code",
   "execution_count": null,
   "metadata": {},
   "outputs": [],
   "source": [
    "from boardlaw.analysis import *"
   ]
  },
  {
   "cell_type": "code",
   "execution_count": null,
   "metadata": {},
   "outputs": [],
   "source": [
    "from boardlaw import mohex\n",
    "from boardlaw.main import worldfunc, agentfunc\n",
    "from boardlaw.arena import evaluator\n",
    "\n",
    "n_envs = 8\n",
    "worlds = worldfunc(n_envs)\n",
    "agent = agentfunc()\n",
    "agent.load_state_dict(storage.load_latest('*gross-steams')['agent'])\n",
    "agent.kwargs['n_nodes'] = 512\n",
    "agent.kwargs['noise_eps'] = 0.\n",
    "mhx = mohex.MoHexAgent()\n",
    "\n",
    "results = evaluator.evaluate(worlds, {'boardlaw': agent, 'mohex': mhx})"
   ]
  },
  {
   "cell_type": "code",
   "execution_count": null,
   "metadata": {},
   "outputs": [],
   "source": []
  },
  {
   "cell_type": "code",
   "execution_count": null,
   "metadata": {},
   "outputs": [],
   "source": []
  }
 ],
 "metadata": {
  "kernelspec": {
   "display_name": "Python 3",
   "language": "python",
   "name": "python3"
  }
 },
 "nbformat": 4,
 "nbformat_minor": 4
}
