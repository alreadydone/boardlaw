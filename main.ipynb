{
 "cells": [
  {
   "cell_type": "code",
   "execution_count": null,
   "metadata": {},
   "outputs": [],
   "source": [
    "%env CUDA_LAUNCH_BLOCKING=1"
   ]
  },
  {
   "cell_type": "code",
   "execution_count": null,
   "metadata": {},
   "outputs": [],
   "source": [
    "from boardlaw.main import *\n",
    "run()"
   ]
  },
  {
   "cell_type": "code",
   "execution_count": null,
   "metadata": {},
   "outputs": [],
   "source": [
    "%debug"
   ]
  },
  {
   "cell_type": "code",
   "execution_count": null,
   "metadata": {},
   "outputs": [],
   "source": [
    "import json\n",
    "from pathlib import Path\n",
    "runs = [f'mohex-{n}' for n in [3, 5, 7, 9, 11]]\n",
    "for r in runs:\n",
    "    js = list(sql\n",
    "          .stored(r)\n",
    "          .drop(['run_name', 'boardsize'], 1)\n",
    "          .set_index(['black_name', 'white_name'])\n",
    "          .astype(int)\n",
    "          .reset_index()\n",
    "          .to_dict(orient='index')\n",
    "          .values())\n",
    "    \n",
    "    p = Path(f'output/arena/{r}.json')\n",
    "    p.parent.mkdir(exist_ok=True, parents=True)\n",
    "    p.write_text(json.dumps(js))"
   ]
  },
  {
   "cell_type": "code",
   "execution_count": null,
   "metadata": {},
   "outputs": [],
   "source": [
    "a = [1, 2, 3]\n",
    "a[:] = [4, 5]"
   ]
  },
  {
   "cell_type": "code",
   "execution_count": null,
   "metadata": {},
   "outputs": [],
   "source": [
    "from boardlaw.arena import database\n",
    "database.symmetric('mohex-3')"
   ]
  },
  {
   "cell_type": "code",
   "execution_count": null,
   "metadata": {},
   "outputs": [],
   "source": [
    "!rm \"output/pavlov/2020-12-29 15-44-20 fresh-wave big-buffer fine-tune/arena.json.lock\""
   ]
  }
 ],
 "metadata": {
  "kernelspec": {
   "display_name": "Python 3",
   "language": "python",
   "name": "python3"
  },
  "language_info": {
   "codemirror_mode": {
    "name": "ipython",
    "version": 3
   },
   "file_extension": ".py",
   "mimetype": "text/x-python",
   "name": "python",
   "nbconvert_exporter": "python",
   "pygments_lexer": "ipython3"
  }
 },
 "nbformat": 4,
 "nbformat_minor": 4
}
