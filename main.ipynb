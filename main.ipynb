{
 "cells": [
  {
   "cell_type": "code",
   "execution_count": null,
   "metadata": {},
   "outputs": [],
   "source": [
    "from experiments.attn.victory import *"
   ]
  },
  {
   "cell_type": "code",
   "execution_count": null,
   "metadata": {},
   "outputs": [],
   "source": [
    "results = {}\n",
    "for boardsize in (3, 5, 7, 9):\n",
    "    for depth in [1, 2, 4, 8, 16]:\n",
    "        for width in [8, 16, 32, 64, 128]:\n",
    "            print(boardsize, depth, width)\n",
    "            results[boardsize, depth, width] = run_trial(boardsize=boardsize, n_layers=depth, D=width)"
   ]
  },
  {
   "cell_type": "code",
   "execution_count": null,
   "metadata": {},
   "outputs": [],
   "source": [
    "from pathlib import Path\n",
    "import pickle\n",
    "Path('output/experiments-victory.pkl').write_bytes(pickle.dumps(results))"
   ]
  },
  {
   "cell_type": "code",
   "execution_count": null,
   "metadata": {},
   "outputs": [],
   "source": [
    "pickle.loads(Path('output/experiments-victory.pkl').read_bytes())"
   ]
  },
  {
   "cell_type": "code",
   "execution_count": null,
   "metadata": {},
   "outputs": [],
   "source": [
    "from pavlov import stats, runs, storage\n",
    "Model = common.FCModel\n",
    "run = runs.new_run('experiments-victory', model=Model.__name__)"
   ]
  },
  {
   "cell_type": "code",
   "execution_count": null,
   "metadata": {},
   "outputs": [],
   "source": [
    "for boardsize in (3, 5, 7, 9):\n",
    "    for depth in [1, 2, 4, 8, 16]:\n",
    "        for width in [8, 16, 32, 64, 128]:\n",
    "            storage.snapshot(run, {'losses': results[boardsize, depth, width].to_dict()}, boardsize=boardsize, depth=depth, width=width)"
   ]
  },
  {
   "cell_type": "code",
   "execution_count": null,
   "metadata": {},
   "outputs": [],
   "source": [
    "from pavlov import stats, runs, storage, files"
   ]
  },
  {
   "cell_type": "code",
   "execution_count": null,
   "metadata": {},
   "outputs": [],
   "source": [
    "snapshots = pd.DataFrame.from_dict(storage.snapshots(run), orient='index')\n",
    "df = {}\n",
    "for i, row in snapshots.iterrows():\n",
    "    df[row.boardsize, row.depth, row.width] = storage.load_snapshot(run, i)"
   ]
  },
  {
   "cell_type": "code",
   "execution_count": null,
   "metadata": {},
   "outputs": [],
   "source": [
    "df"
   ]
  }
 ],
 "metadata": {
  "kernelspec": {
   "display_name": "Python 3",
   "language": "python",
   "name": "python3"
  }
 },
 "nbformat": 4,
 "nbformat_minor": 4
}
