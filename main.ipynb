{
 "cells": [
  {
   "cell_type": "code",
   "execution_count": null,
   "metadata": {},
   "outputs": [],
   "source": [
    "from experiments.attn.victory import *"
   ]
  },
  {
   "cell_type": "code",
   "execution_count": null,
   "metadata": {},
   "outputs": [],
   "source": [
    "device = 'cuda'\n",
    "D = 32\n",
    "B = 8*1024\n",
    "T = 5000\n",
    "\n",
    "worlds = Hex.initial(B, boardsize=7)\n",
    "\n",
    "boardsize = worlds.boardsize\n",
    "model = common.AttnModel(common.PosActions, boardsize, D).to(device)\n",
    "\n",
    "opt = torch.optim.Adam(model.parameters(), lr=1e-2)\n",
    "\n",
    "with tqdm(total=T) as pbar:\n",
    "    for t, b in zip(range(T), batchgen(worlds, B)):\n",
    "        targets = terminal_actions(b.worlds)\n",
    "        outputs = model(b.worlds.obs)\n",
    "\n",
    "        infs = torch.full_like(targets, np.inf)\n",
    "        loss = -outputs.reshape(B, -1).where(targets == 1., infs).min(-1).values.mean()\n",
    "\n",
    "        opt.zero_grad()\n",
    "        loss.backward()\n",
    "        opt.step()\n",
    "\n",
    "        pbar.update(1)\n",
    "        pbar.set_description(f'{loss:.2f}')\n",
    "\n"
   ]
  },
  {
   "cell_type": "code",
   "execution_count": null,
   "metadata": {},
   "outputs": [],
   "source": [
    "targets = terminal_actions(b.worlds)\n",
    "outputs = model(b.worlds.obs)\n",
    "\n",
    "loss = -outputs.reshape(B, -1).mul(targets).sum(-1)\n",
    "\n",
    "bad = loss.argsort().cpu().numpy()[::-1]"
   ]
  },
  {
   "cell_type": "code",
   "execution_count": null,
   "metadata": {},
   "outputs": [],
   "source": [
    "plot(bad[-1], b.worlds.obs, targets, outputs, model.attns)"
   ]
  },
  {
   "cell_type": "code",
   "execution_count": null,
   "metadata": {},
   "outputs": [],
   "source": [
    "loss.detach().cpu().numpy()[bad]"
   ]
  }
 ],
 "metadata": {
  "kernelspec": {
   "display_name": "Python 3",
   "language": "python",
   "name": "python3"
  },
  "language_info": {
   "codemirror_mode": {
    "name": "ipython",
    "version": 3
   },
   "file_extension": ".py",
   "mimetype": "text/x-python",
   "name": "python",
   "nbconvert_exporter": "python",
   "pygments_lexer": "ipython3"
  }
 },
 "nbformat": 4,
 "nbformat_minor": 4
}
