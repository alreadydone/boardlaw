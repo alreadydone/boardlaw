{
 "cells": [
  {
   "cell_type": "code",
   "execution_count": null,
   "metadata": {},
   "outputs": [],
   "source": [
    "from pavlov import *\n",
    "monitor(-1)"
   ]
  },
  {
   "cell_type": "code",
   "execution_count": null,
   "metadata": {},
   "outputs": [],
   "source": [
    "df = stats.compare(['*neat-funds', '*gross-fruits', '*normal-talks', '*same-gangs'], 'elo-mohex', 'μ')\n",
    "df.columns = [f'{b}x{b}: {c}' for b, c in zip((3, 5, 7, 9), df.columns)]"
   ]
  },
  {
   "cell_type": "code",
   "execution_count": null,
   "metadata": {},
   "outputs": [],
   "source": [
    "import matplotlib.pyplot as plt\n",
    "\n",
    "with plt.style.context('seaborn-poster'):\n",
    "    ax = df.ffill().where(df.bfill().notnull()).iloc[1:].plot(logx=True)\n",
    "    ax.set_ylim(None, 0)\n",
    "    ax.grid(True)\n",
    "    ax.set_title('baselines')"
   ]
  },
  {
   "cell_type": "code",
   "execution_count": null,
   "metadata": {},
   "outputs": [],
   "source": [
    "with plt.style.context('seaborn-poster'):\n",
    "    ax = (df > -1).idxmax().rename(lambda c: int(c[:1])).div(1e9).plot(logy=True, marker='o', linestyle=':')\n",
    "    ax.set_xlabel('board width')\n",
    "    ax.set_ylabel('seconds')\n",
    "    ax.set_title('time taken for AlphaZero to learn perfect play in Hex, by board size')\n",
    "    ax.grid(True)"
   ]
  },
  {
   "cell_type": "code",
   "execution_count": null,
   "metadata": {},
   "outputs": [],
   "source": [
    "(df > -1).idxmax().rename(lambda c: int(c[:1]))"
   ]
  }
 ],
 "metadata": {
  "kernelspec": {
   "display_name": "Python 3",
   "language": "python",
   "name": "python3"
  },
  "language_info": {
   "codemirror_mode": {
    "name": "ipython",
    "version": 3
   },
   "file_extension": ".py",
   "mimetype": "text/x-python",
   "name": "python",
   "nbconvert_exporter": "python",
   "pygments_lexer": "ipython3"
  }
 },
 "nbformat": 4,
 "nbformat_minor": 4
}
