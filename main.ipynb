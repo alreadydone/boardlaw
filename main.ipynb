{
 "cells": [
  {
   "cell_type": "code",
   "execution_count": null,
   "metadata": {},
   "outputs": [],
   "source": [
    "%env CUDA_VISIBLE_DEVICES=1"
   ]
  },
  {
   "cell_type": "code",
   "execution_count": null,
   "metadata": {},
   "outputs": [],
   "source": [
    "from pavlov import stats, runs, storage, files\n",
    "from boardlaw import hex\n",
    "from boardlaw.main import mix\n",
    "import torch\n",
    "from tqdm.auto import tqdm"
   ]
  },
  {
   "cell_type": "code",
   "execution_count": null,
   "metadata": {},
   "outputs": [],
   "source": [
    "m = storage.load_raw(run, 'model')\n",
    "worlds = mix(hex.Hex.initial(n_envs=16*1024, boardsize=runs.info(run)['params']['boardsize']))\n",
    "\n",
    "logits = {}\n",
    "for idx in tqdm(storage.snapshots(run)):\n",
    "    sd = storage.load_snapshot(run, idx)['agent']\n",
    "    m.load_state_dict(storage.expand(sd)['network'])\n",
    "    logits[idx] = m(worlds).logits.detach()\n",
    "    \n",
    "kldivs = {}\n",
    "for i in logits:\n",
    "    for j in logits:\n",
    "        li = logits[i]\n",
    "        lj = logits[j]\n",
    "        terms = -li.exp().mul(lj - li)\n",
    "        mask = torch.isfinite(terms)\n",
    "        kldiv = terms.where(mask, torch.zeros_like(terms)).sum(-1)/mask.float().sum(-1)\n",
    "        kldivs[i, j] = kldiv.mean().item()\n",
    "df = pd.Series(kldivs).unstack()"
   ]
  },
  {
   "cell_type": "code",
   "execution_count": null,
   "metadata": {},
   "outputs": [],
   "source": [
    "import numpy as np\n",
    "import matplotlib.pyplot as plt\n",
    "plt.plot(np.diag(df, 1))\n",
    "plt.gca().set_yscale('log')\n",
    "plt.grid(True)"
   ]
  },
  {
   "cell_type": "code",
   "execution_count": null,
   "metadata": {},
   "outputs": [],
   "source": [
    "stats.pandas('*gross-steams', 'elo-mohex', 'μ').ffill().rename(index=lambda t: t.total_seconds()/900).iloc[3:].plot()"
   ]
  }
 ],
 "metadata": {
  "kernelspec": {
   "display_name": "Python 3",
   "language": "python",
   "name": "python3"
  },
  "language_info": {
   "codemirror_mode": {
    "name": "ipython",
    "version": 3
   },
   "file_extension": ".py",
   "mimetype": "text/x-python",
   "name": "python",
   "nbconvert_exporter": "python",
   "pygments_lexer": "ipython3"
  }
 },
 "nbformat": 4,
 "nbformat_minor": 4
}
