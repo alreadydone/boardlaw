{
 "cells": [
  {
   "cell_type": "code",
   "execution_count": null,
   "metadata": {},
   "outputs": [],
   "source": [
    "print()"
   ]
  },
  {
   "cell_type": "code",
   "execution_count": null,
   "metadata": {},
   "outputs": [],
   "source": [
    "%env CUDA_VISIBLE_DEVICES=1"
   ]
  },
  {
   "cell_type": "code",
   "execution_count": null,
   "metadata": {},
   "outputs": [],
   "source": [
    "from experiments.architecture import *"
   ]
  },
  {
   "cell_type": "code",
   "execution_count": null,
   "metadata": {},
   "outputs": [],
   "source": [
    "fetch('output/experiments/architecture/results/', 'output/experiments/architecture/results/')\n",
    "raw = load_opt_results('conv-opt')"
   ]
  },
  {
   "cell_type": "code",
   "execution_count": null,
   "metadata": {},
   "outputs": [],
   "source": [
    "plot_results(raw)"
   ]
  },
  {
   "cell_type": "code",
   "execution_count": null,
   "metadata": {},
   "outputs": [],
   "source": [
    "time = raw.xs('time', 1, 4).pipe(lambda df: df - df.iloc[0]).max()\n",
    "train = raw.xs('train', 1, 4).ewm(span=100).mean().min()\n",
    "steps = raw.xs('train', 1, 4).pipe(lambda df: df.ffill().where(df.bfill().notnull())).notnull().sum()\n",
    "picks = train.groupby(['n', 'l']).idxmin()\n",
    "\n",
    "aug = (train\n",
    "        .groupby(['n', 'l']).min()\n",
    "        .reset_index())\n",
    "aug.columns = ['width', 'depth', 'rv']\n",
    "\n",
    "aug['time'] = time[picks].values\n",
    "aug['steps'] = steps[picks].values\n",
    "\n",
    "aug = (aug\n",
    "        .assign(params=lambda df: (df.width**2 + df.width)*df.depth)\n",
    "        .assign(memory=lambda df: df.width*df.depth)\n",
    "        .assign(flops=lambda df: (df.width**3 + df.width)*df.depth))\n",
    "\n",
    "aug['total_flops'] = aug.flops*aug.steps"
   ]
  },
  {
   "cell_type": "code",
   "execution_count": null,
   "metadata": {},
   "outputs": [],
   "source": [
    "ax = plot_envelope(aug, 'depth')\n",
    "ax.set_title((\n",
    "        'performance envelopes for predicting outcome of 11x11 Hex games with convolutional networks\\n'\n",
    "        '(width doubles line-to-line, depth doubles node-to-node)'))\n",
    "ax.legend()"
   ]
  },
  {
   "cell_type": "code",
   "execution_count": null,
   "metadata": {},
   "outputs": [],
   "source": [
    "raw.xs('train', 1, 4).ewm(span=100).mean()[32, 4].plot()"
   ]
  },
  {
   "cell_type": "code",
   "execution_count": null,
   "metadata": {},
   "outputs": [],
   "source": [
    "aug"
   ]
  },
  {
   "cell_type": "code",
   "execution_count": null,
   "metadata": {},
   "outputs": [],
   "source": []
  }
 ],
 "metadata": {
  "kernelspec": {
   "display_name": "Python 3",
   "language": "python",
   "name": "python3"
  },
  "language_info": {
   "codemirror_mode": {
    "name": "ipython",
    "version": 3
   },
   "file_extension": ".py",
   "mimetype": "text/x-python",
   "name": "python",
   "nbconvert_exporter": "python",
   "pygments_lexer": "ipython3"
  }
 },
 "nbformat": 4,
 "nbformat_minor": 4
}
