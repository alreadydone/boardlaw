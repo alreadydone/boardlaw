{
 "cells": [
  {
   "cell_type": "code",
   "execution_count": null,
   "metadata": {},
   "outputs": [],
   "source": [
    "%env CUDA_LAUNCH_BLOCKING=1"
   ]
  },
  {
   "cell_type": "code",
   "execution_count": null,
   "metadata": {},
   "outputs": [],
   "source": [
    "from experiments.attn.victory import *"
   ]
  },
  {
   "cell_type": "code",
   "execution_count": null,
   "metadata": {},
   "outputs": [],
   "source": [
    "D = 32\n",
    "B = 1024\n",
    "T = 1000\n",
    "device = 'cuda'\n",
    "\n",
    "boards = load_boards().to(device)\n",
    "worlds = Hex(boards.worlds)\n",
    "\n",
    "n_boards, boardsize, _ = worlds.board.shape\n",
    "head = VictoryHead(D)\n",
    "model = common.FCModel(head, boardsize, D).to(device)\n",
    "\n",
    "opt = torch.optim.Adam(model.parameters(), lr=1e-2)\n",
    "\n",
    "with tqdm(total=T) as pbar:\n",
    "    for t in range(T):\n",
    "        idxs = torch.randint(0, n_boards, size=(B,), device=device)\n",
    "        outputs = model(worlds[idxs].obs)\n",
    "        targets = boards.target[idxs, 0].div(2).add(.5).int()\n",
    "\n",
    "        loss = F.nll_loss(outputs, targets.long())\n",
    "\n",
    "        opt.zero_grad()\n",
    "        loss.backward()\n",
    "        opt.step()\n",
    "\n",
    "        pbar.update(1)\n",
    "        pbar.set_description(f'{loss:.2f}')\n",
    "\n"
   ]
  },
  {
   "cell_type": "code",
   "execution_count": null,
   "metadata": {},
   "outputs": [],
   "source": [
    "worlds[idxs].display(0)"
   ]
  },
  {
   "cell_type": "code",
   "execution_count": null,
   "metadata": {},
   "outputs": [],
   "source": [
    "boards.target[idxs]"
   ]
  }
 ],
 "metadata": {
  "kernelspec": {
   "display_name": "Python 3",
   "language": "python",
   "name": "python3"
  },
  "language_info": {
   "codemirror_mode": {
    "name": "ipython",
    "version": 3
   },
   "file_extension": ".py",
   "mimetype": "text/x-python",
   "name": "python",
   "nbconvert_exporter": "python",
   "pygments_lexer": "ipython3"
  }
 },
 "nbformat": 4,
 "nbformat_minor": 4
}
